{
 "cells": [
  {
   "cell_type": "code",
   "execution_count": 6,
   "metadata": {},
   "outputs": [
    {
     "name": "stdout",
     "output_type": "stream",
     "text": [
      "User(id=1729646123306954752, username=danielmnb6, name=daniel muñoz bedoya, verified=False)\n"
     ]
    }
   ],
   "source": [
    "from tweety import Twitter\n",
    "import time\n",
    "\n",
    "cookies_value = \"\"\"guest_id=guest_id_value; guest_id_marketing=guest_id_marketing; guest_id_ads=guest_id_ads; kdt=kdt_value; auth_token=auth_token_value; ct0=ct0_value; twid=twid_value; personalization_id=\"personalization_id_value\" \"\"\"\n",
    "\n",
    "# Cookies can be a str or a dict\n",
    "\n",
    "app = Twitter(\"session\")\n",
    "app.load_cookies(cookies_value)\n",
    "print(app.me)\n",
    "\n"
   ]
  },
  {
   "cell_type": "code",
   "execution_count": null,
   "metadata": {},
   "outputs": [],
   "source": [
    "user = 'elonmusk'\n",
    "tweets = app.get_tweets(username=user,pages=1,wait_time=1)\n",
    "if tweets:\n",
    "    for tweet in tweets:\n",
    "        if hasattr(tweet, 'tweets') and tweet.tweets: \n",
    "            tweet_info_time = str(tweet.tweets[0].created_on)\n",
    "            tweet_info_link = str(tweet.tweets[0].id)\n",
    "            time.sleep(1)\n",
    "            tweet = app.tweet_detail(f\"https://twitter.com/{user}/status/{tweet_info_link}\")\n",
    "            print(f\"informacion tweet:{tweet}\")\n",
    "            #print(tweet.text)\n",
    "            print(tweet.tweet_body)\n",
    "            print(tweet.is_retweet)\n",
    "\n",
    "        else:\n",
    "            tweet_info_time = str(tweet.created_on)\n",
    "            tweet_info_link = str(tweet.id)\n",
    "            tweet = app.tweet_detail(f\"https://twitter.com/{user}/status/{tweet_info_link}\")\n",
    "            print(f\"informacion tweet:{tweet}\")\n",
    "            #print(tweet.text)\n",
    "            print(tweet.tweet_body)\n",
    "            print(tweet.is_retweet)\n",
    "           \n",
    "\n",
    "else:\n",
    "    print(\"No se encontraron tweets para el usuario\", user)"
   ]
  }
 ],
 "metadata": {
  "kernelspec": {
   "display_name": "Python 3",
   "language": "python",
   "name": "python3"
  },
  "language_info": {
   "codemirror_mode": {
    "name": "ipython",
    "version": 3
   },
   "file_extension": ".py",
   "mimetype": "text/x-python",
   "name": "python",
   "nbconvert_exporter": "python",
   "pygments_lexer": "ipython3",
   "version": "3.10.6"
  }
 },
 "nbformat": 4,
 "nbformat_minor": 2
}
